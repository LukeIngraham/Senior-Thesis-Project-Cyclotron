{
 "cells": [
  {
   "cell_type": "code",
   "execution_count": 1,
   "id": "6cc14724-8f3c-4054-88cd-cbdc0eac3247",
   "metadata": {},
   "outputs": [],
   "source": [
    "import numpy as np"
   ]
  },
  {
   "cell_type": "code",
   "execution_count": 9,
   "id": "d9c1f6a5-9f8e-4d58-bd07-2f99078d68e6",
   "metadata": {},
   "outputs": [],
   "source": [
    "X_alum = 16.5*10**-5 #[Unitless]          # Magnetic susceptability of Al\n",
    "X_ir = 7200*10**-6   #[Unitless]          # Magnetic susceptability of Fe\n",
    "X_Cu = -5.46*10**-6  #[Unitless]          # Magnetic susceptability of Cu\n",
    "mu_0 = 1.2566370621219*10**-6 # [N•A^-2]  # Vacuum Permiability\n",
    "B = 0.2 # [T]                             # Magnetic Field Strength\n",
    "\n",
    "# Calculating the Magnetization\n",
    "def M(X): \n",
    "    mu = mu_0*(1+X)\n",
    "    H = B/mu\n",
    "    M = X*H\n",
    "    print(\"mu: \",mu, \" N•A^-2\")\n",
    "    print(\"H: \",H,\" A/m\")\n",
    "    print(\"M: \",M ,\" A/m\")"
   ]
  },
  {
   "cell_type": "code",
   "execution_count": 10,
   "id": "78da0234-c824-435c-b573-5c1ee7e839fc",
   "metadata": {},
   "outputs": [
    {
     "name": "stdout",
     "output_type": "stream",
     "text": [
      "Aluminum\n",
      "mu:  1.2568444072371502e-06  N•A^-2\n",
      "H:  159128.68677169728  A/m\n",
      "M:  26.256233317330054  A/m\n",
      "Iron Oxide\n",
      "mu:  1.265684848969178e-06  N•A^-2\n",
      "H:  158017.21902801289  A/m\n",
      "M:  1137.7239770016927  A/m\n",
      "Copper\n",
      "mu:  1.256630200883541e-06  N•A^-2\n",
      "H:  159155.8119957481  A/m\n",
      "M:  -0.8689907334967846  A/m\n"
     ]
    }
   ],
   "source": [
    "print(\"Aluminum\")\n",
    "M(X_alum)\n",
    "print(\"Iron Oxide\")\n",
    "M(X_ir)\n",
    "print(\"Copper\")\n",
    "M(X_Cu)"
   ]
  },
  {
   "cell_type": "code",
   "execution_count": null,
   "id": "a97e8c03-3b9a-455b-a0ec-14760e82c1d8",
   "metadata": {},
   "outputs": [],
   "source": []
  }
 ],
 "metadata": {
  "kernelspec": {
   "display_name": "Python 3",
   "language": "python",
   "name": "python3"
  },
  "language_info": {
   "codemirror_mode": {
    "name": "ipython",
    "version": 3
   },
   "file_extension": ".py",
   "mimetype": "text/x-python",
   "name": "python",
   "nbconvert_exporter": "python",
   "pygments_lexer": "ipython3",
   "version": "3.8.8"
  }
 },
 "nbformat": 4,
 "nbformat_minor": 5
}
