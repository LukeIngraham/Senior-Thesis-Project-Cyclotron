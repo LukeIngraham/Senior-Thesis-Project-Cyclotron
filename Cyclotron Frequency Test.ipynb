{
 "cells": [
  {
   "cell_type": "code",
   "execution_count": 1,
   "id": "adfaf56b-1a26-4ff3-8f9c-6b165d0a9b97",
   "metadata": {},
   "outputs": [],
   "source": [
    "import numpy as np"
   ]
  },
  {
   "cell_type": "code",
   "execution_count": 2,
   "id": "fe73107d-296a-44c6-968b-80aeff3b11fd",
   "metadata": {},
   "outputs": [],
   "source": [
    "def freq(q, B, m):\n",
    "    f = (q*B)/(2*np.pi*m)\n",
    "    return f"
   ]
  },
  {
   "cell_type": "code",
   "execution_count": 9,
   "id": "c9c2f543-20e6-4a30-a746-e4526c2ad9b2",
   "metadata": {},
   "outputs": [
    {
     "data": {
      "text/plain": [
       "1.5248377781259435"
      ]
     },
     "execution_count": 9,
     "metadata": {},
     "output_type": "execute_result"
    }
   ],
   "source": [
    "print(freq((1.6 *(10**-19)), 0.1, (1.67*(10**-27)))/1e6, \"MHz\")"
   ]
  },
  {
   "cell_type": "code",
   "execution_count": 8,
   "id": "b932206c-c26a-48da-a5f9-16dc0fd261d8",
   "metadata": {},
   "outputs": [
    {
     "data": {
      "text/plain": [
       "3.049675556251887"
      ]
     },
     "execution_count": 8,
     "metadata": {},
     "output_type": "execute_result"
    }
   ],
   "source": [
    "print(freq((1.6 *(10**-19)), 0.2, (1.67*(10**-27)))/1e6, \"MHz\")"
   ]
  },
  {
   "cell_type": "code",
   "execution_count": null,
   "id": "baaff4e9-ad45-4862-a03c-378d9113444f",
   "metadata": {},
   "outputs": [],
   "source": []
  }
 ],
 "metadata": {
  "kernelspec": {
   "display_name": "Python 3",
   "language": "python",
   "name": "python3"
  },
  "language_info": {
   "codemirror_mode": {
    "name": "ipython",
    "version": 3
   },
   "file_extension": ".py",
   "mimetype": "text/x-python",
   "name": "python",
   "nbconvert_exporter": "python",
   "pygments_lexer": "ipython3",
   "version": "3.8.8"
  }
 },
 "nbformat": 4,
 "nbformat_minor": 5
}
