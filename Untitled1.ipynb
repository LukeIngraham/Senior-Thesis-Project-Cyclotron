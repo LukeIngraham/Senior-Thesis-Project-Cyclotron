{
 "cells": [
  {
   "cell_type": "code",
   "execution_count": 1,
   "id": "38107ebc",
   "metadata": {},
   "outputs": [],
   "source": [
    "import numpy as np"
   ]
  },
  {
   "cell_type": "code",
   "execution_count": 15,
   "id": "caf2442b",
   "metadata": {},
   "outputs": [],
   "source": [
    "def V(KE, m):\n",
    "    return np.sqrt(2*KE/m)\n",
    "\n",
    "def eV_to_J(unit):\n",
    "    return unit/(6.242e+18)"
   ]
  },
  {
   "cell_type": "code",
   "execution_count": 16,
   "id": "907afe46",
   "metadata": {},
   "outputs": [
    {
     "name": "stderr",
     "output_type": "stream",
     "text": [
      "<ipython-input-15-c8e7d9245258>:2: RuntimeWarning: invalid value encountered in sqrt\n",
      "  return np.sqrt(2*KE/m)\n"
     ]
    },
    {
     "data": {
      "text/plain": [
       "nan"
      ]
     },
     "execution_count": 16,
     "metadata": {},
     "output_type": "execute_result"
    }
   ],
   "source": [
    "V(eV_to_J(-13.6), 9.1093837*10**(-31))"
   ]
  },
  {
   "cell_type": "code",
   "execution_count": 19,
   "id": "af295255",
   "metadata": {},
   "outputs": [
    {
     "data": {
      "text/plain": [
       "-4.783614175188715e-50"
      ]
     },
     "execution_count": 19,
     "metadata": {},
     "output_type": "execute_result"
    }
   ],
   "source": [
    "2*(eV_to_J(-13.6)/9.1093837*10**(-31))"
   ]
  },
  {
   "cell_type": "code",
   "execution_count": null,
   "id": "4a0558ea",
   "metadata": {},
   "outputs": [],
   "source": []
  }
 ],
 "metadata": {
  "kernelspec": {
   "display_name": "Python 3",
   "language": "python",
   "name": "python3"
  },
  "language_info": {
   "codemirror_mode": {
    "name": "ipython",
    "version": 3
   },
   "file_extension": ".py",
   "mimetype": "text/x-python",
   "name": "python",
   "nbconvert_exporter": "python",
   "pygments_lexer": "ipython3",
   "version": "3.8.8"
  }
 },
 "nbformat": 4,
 "nbformat_minor": 5
}
