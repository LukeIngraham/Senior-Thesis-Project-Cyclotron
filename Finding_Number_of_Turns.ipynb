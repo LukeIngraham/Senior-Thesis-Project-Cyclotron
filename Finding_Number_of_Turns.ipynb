{
 "cells": [
  {
   "cell_type": "code",
   "execution_count": 1,
   "id": "c999a54b-997e-4d3a-a764-a51346ba4d6b",
   "metadata": {},
   "outputs": [],
   "source": [
    "import numpy as np"
   ]
  },
  {
   "cell_type": "code",
   "execution_count": 2,
   "id": "945a2bd5-58f8-4f73-9355-9c2dcf073f3f",
   "metadata": {},
   "outputs": [
    {
     "name": "stdout",
     "output_type": "stream",
     "text": [
      "Length: 640.0487656202378 m\n",
      "Thickness: 5.080010160020321e-05 m\n",
      "Inner_r: 0.10795021590043181 m\n",
      "5.841999999999777\n"
     ]
    }
   ],
   "source": [
    "def ft_to_m(input):\n",
    "    return input/3.281\n",
    "def m_to_ft(input):\n",
    "    return input*3.281\n",
    "def mm_to_m(input):\n",
    "    return input/1000\n",
    "def in_to_m(input):\n",
    "    return input/39.37\n",
    "def m_to_in(input):\n",
    "    return input*39.37\n",
    "def circumference(r):\n",
    "    return 2*np.pi*r\n",
    "\n",
    "length = ft_to_m(2100)\n",
    "print(\"Length:\", length, \"m\")\n",
    "thickness = in_to_m((2/1000))\n",
    "print(\"Thickness:\",thickness, \"m\")\n",
    "inner_r = in_to_m(4.25)\n",
    "print(\"Inner_r:\", inner_r, \"m\")\n",
    "i = 0\n",
    "while length > 0:\n",
    "    i = i + 1\n",
    "    length = length - circumference(inner_r)\n",
    "    inner_r = inner_r + thickness\n",
    "    #print(length, circumference(inner_r), inner_r)\n",
    "print(m_to_in(inner_r))"
   ]
  },
  {
   "cell_type": "code",
   "execution_count": 3,
   "id": "9fa245be-711a-413f-930d-a9dd96a847d7",
   "metadata": {},
   "outputs": [
    {
     "name": "stdout",
     "output_type": "stream",
     "text": [
      "5.080010160020321e-05\n",
      "796\n"
     ]
    }
   ],
   "source": [
    "thickness = in_to_m((2/1000))\n",
    "print(thickness)\n",
    "print(i)"
   ]
  },
  {
   "cell_type": "code",
   "execution_count": 16,
   "id": "31464cb7-b901-4d94-909d-3f80cb817225",
   "metadata": {},
   "outputs": [
    {
     "data": {
      "text/plain": [
       "0.00439985831162976"
      ]
     },
     "execution_count": 16,
     "metadata": {},
     "output_type": "execute_result"
    }
   ],
   "source": [
    "MU = (1.25663706)*(10**(-6))\n",
    "\n",
    "def turns_solenoid(B, I):\n",
    "    return B/(MU*I)\n",
    "    # appoximation for a solinoid (infinite length)\n",
    "def B_field_solenoid(I, N):\n",
    "    return N*I*MU\n",
    "\n",
    "B = 0.0044\n",
    "I = 0.236\n",
    "N = round(turns_solenoid(B, I))\n",
    "\n",
    "B_field_solenoid(I, N)"
   ]
  },
  {
   "cell_type": "code",
   "execution_count": 15,
   "id": "f8cc5c21-4344-4d20-8d0e-ce88b0ad2122",
   "metadata": {},
   "outputs": [],
   "source": [
    "def length(OD, ID, T):\n",
    "    #print(OD, ID, T)\n",
    "    return np.pi*(((OD**2)/4)-((ID**2)/4))/T"
   ]
  },
  {
   "cell_type": "code",
   "execution_count": 20,
   "id": "18b88b5a-8e34-4188-aabc-da122f609dde",
   "metadata": {},
   "outputs": [],
   "source": [
    "l = round(m_to_ft(length(in_to_m(10), in_to_m(4.25), thickness)))"
   ]
  },
  {
   "cell_type": "code",
   "execution_count": 21,
   "id": "93f86a19-1824-400c-a28b-8888d1e52611",
   "metadata": {},
   "outputs": [
    {
     "data": {
      "text/plain": [
       "2681"
      ]
     },
     "execution_count": 21,
     "metadata": {},
     "output_type": "execute_result"
    }
   ],
   "source": [
    "l"
   ]
  },
  {
   "cell_type": "code",
   "execution_count": 17,
   "id": "4d7278a8-e815-4616-baf6-919faf491a92",
   "metadata": {},
   "outputs": [],
   "source": [
    "def outer_D(l, ID, T):\n",
    "    return np.sqrt(((4*l*T)/np.pi)+(ID**2))"
   ]
  },
  {
   "cell_type": "code",
   "execution_count": 22,
   "id": "d461ddf4-f079-4b78-8ba0-687c7e782f9d",
   "metadata": {},
   "outputs": [
    {
     "data": {
      "text/plain": [
       "9.999695185777409"
      ]
     },
     "execution_count": 22,
     "metadata": {},
     "output_type": "execute_result"
    }
   ],
   "source": [
    "m_to_in(outer_D(ft_to_m(l), in_to_m(4.25), thickness))"
   ]
  },
  {
   "cell_type": "code",
   "execution_count": 17,
   "id": "4189c930-f63a-4fe8-afae-0963e2f2074f",
   "metadata": {},
   "outputs": [
    {
     "data": {
      "text/plain": [
       "0.11734021533553393"
      ]
     },
     "execution_count": 17,
     "metadata": {},
     "output_type": "execute_result"
    }
   ],
   "source": [
    "def B_field(N, W, I, MU):\n",
    "    MU0 = 4*np.pi* 10**-7  \n",
    "    return MU*MU0*I*(N/W)\n",
    "\n",
    "# [N] = unitless\n",
    "# [MU] = unitless\n",
    "# [I] = [A]\n",
    "# [T] = [m]\n",
    "# [MU0] = [H·m−1]\n",
    "\n",
    "# [T] = kg⋅s−2⋅A−1\n",
    "# [H] = kg⋅m2⋅s−2⋅A−2\n",
    "\n",
    "B_field(756, in_to_m(3.1875), 10, 1)"
   ]
  },
  {
   "cell_type": "code",
   "execution_count": null,
   "id": "35423f5c-04a5-4096-aca5-fce9f7b487d4",
   "metadata": {},
   "outputs": [],
   "source": []
  }
 ],
 "metadata": {
  "kernelspec": {
   "display_name": "Python 3",
   "language": "python",
   "name": "python3"
  },
  "language_info": {
   "codemirror_mode": {
    "name": "ipython",
    "version": 3
   },
   "file_extension": ".py",
   "mimetype": "text/x-python",
   "name": "python",
   "nbconvert_exporter": "python",
   "pygments_lexer": "ipython3",
   "version": "3.8.8"
  }
 },
 "nbformat": 4,
 "nbformat_minor": 5
}
