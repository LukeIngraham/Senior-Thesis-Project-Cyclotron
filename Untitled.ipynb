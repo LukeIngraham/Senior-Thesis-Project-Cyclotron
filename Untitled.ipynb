{
 "cells": [
  {
   "cell_type": "code",
   "execution_count": 1,
   "id": "5b26219c-0478-4e45-a68d-44a6ffe7fae7",
   "metadata": {},
   "outputs": [
    {
     "data": {
      "text/plain": [
       "71.18700000000001"
      ]
     },
     "execution_count": 1,
     "metadata": {},
     "output_type": "execute_result"
    }
   ],
   "source": [
    "890.37-819.183"
   ]
  },
  {
   "cell_type": "code",
   "execution_count": 6,
   "id": "79ab1189-b15b-4f74-97a7-b21d89659e28",
   "metadata": {},
   "outputs": [
    {
     "data": {
      "text/plain": [
       "2.0427123902430933"
      ]
     },
     "execution_count": 6,
     "metadata": {},
     "output_type": "execute_result"
    }
   ],
   "source": [
    "(394000/(2*(6.02*(10**(23)))))/(1.602*10**(-19))"
   ]
  },
  {
   "cell_type": "code",
   "execution_count": 7,
   "id": "dd9dbc32-a8ad-45f3-aa4e-f95eb236f5f5",
   "metadata": {},
   "outputs": [],
   "source": [
    "G = 890000\n",
    "e = 8\n",
    "Na = 6.02*(10**23)\n",
    "eV = (1.602*10**(-19))\n",
    "t = G/(e*Na)"
   ]
  },
  {
   "cell_type": "code",
   "execution_count": 8,
   "id": "5be32186-266b-4b6e-8cbe-308a617488bf",
   "metadata": {},
   "outputs": [
    {
     "data": {
      "text/plain": [
       "1.8480066445182726e-19"
      ]
     },
     "execution_count": 8,
     "metadata": {},
     "output_type": "execute_result"
    }
   ],
   "source": [
    "t"
   ]
  },
  {
   "cell_type": "code",
   "execution_count": 9,
   "id": "aa1ca7f7-0552-4198-b12f-fef845b50071",
   "metadata": {},
   "outputs": [
    {
     "data": {
      "text/plain": [
       "1.1535622000738281"
      ]
     },
     "execution_count": 9,
     "metadata": {},
     "output_type": "execute_result"
    }
   ],
   "source": [
    "t/eV"
   ]
  },
  {
   "cell_type": "code",
   "execution_count": 12,
   "id": "bdc36c2a-252e-4f3d-8aba-b942f60ffee1",
   "metadata": {},
   "outputs": [
    {
     "data": {
      "text/plain": [
       "-2799.98"
      ]
     },
     "execution_count": 12,
     "metadata": {},
     "output_type": "execute_result"
    }
   ],
   "source": [
    "(6*-393+6*-285.83)+1273"
   ]
  },
  {
   "cell_type": "code",
   "execution_count": 13,
   "id": "f6cd5983-10b4-4848-b0ef-5c1a3f0dbc26",
   "metadata": {},
   "outputs": [
    {
     "data": {
      "text/plain": [
       "259.0600000000002"
      ]
     },
     "execution_count": 13,
     "metadata": {},
     "output_type": "execute_result"
    }
   ],
   "source": [
    "(6*69.91+6*213.74)-(6*205.14+212)"
   ]
  },
  {
   "cell_type": "code",
   "execution_count": 14,
   "id": "c6ac9e61-86a9-469a-9ec8-62f397770f18",
   "metadata": {},
   "outputs": [
    {
     "data": {
      "text/plain": [
       "-2875884.58"
      ]
     },
     "execution_count": 14,
     "metadata": {},
     "output_type": "execute_result"
    }
   ],
   "source": [
    "-2799980-(293*259.06)"
   ]
  },
  {
   "cell_type": "code",
   "execution_count": 15,
   "id": "6e397660-7d68-4432-b225-9d665c2a830e",
   "metadata": {},
   "outputs": [
    {
     "data": {
      "text/plain": [
       "75.904"
      ]
     },
     "execution_count": 15,
     "metadata": {},
     "output_type": "execute_result"
    }
   ],
   "source": [
    "2875.884-2799.98"
   ]
  },
  {
   "cell_type": "code",
   "execution_count": null,
   "id": "967f928c-e0fe-425d-a7b4-caae18063060",
   "metadata": {},
   "outputs": [],
   "source": []
  }
 ],
 "metadata": {
  "kernelspec": {
   "display_name": "Python 3",
   "language": "python",
   "name": "python3"
  },
  "language_info": {
   "codemirror_mode": {
    "name": "ipython",
    "version": 3
   },
   "file_extension": ".py",
   "mimetype": "text/x-python",
   "name": "python",
   "nbconvert_exporter": "python",
   "pygments_lexer": "ipython3",
   "version": "3.8.8"
  }
 },
 "nbformat": 4,
 "nbformat_minor": 5
}
