{
 "cells": [
  {
   "cell_type": "code",
   "execution_count": 16,
   "id": "0629d91c-75a7-4434-8ad1-a53399d6feb8",
   "metadata": {},
   "outputs": [],
   "source": [
    "import numpy as np\n",
    "import pandas as pd"
   ]
  },
  {
   "cell_type": "code",
   "execution_count": 12,
   "id": "3f582b55-b7de-4fae-a03d-dbfc56cbe821",
   "metadata": {},
   "outputs": [],
   "source": [
    "def mT_to_T(unit):\n",
    "    return unit/1000"
   ]
  },
  {
   "cell_type": "code",
   "execution_count": 51,
   "id": "5e58f817-2a74-47a6-812c-eb2111eb92a9",
   "metadata": {},
   "outputs": [],
   "source": [
    "def B():\n",
    "    mu = np.linspace(7.642287892701115e-05, 7.718064946990566e-05, 100)\n",
    "    mu_0 = 4*np.pi*(10**-7) # N/A^2\n",
    "    I = 4.8\n",
    "    N = 796\n",
    "    t = 5.08e-6\n",
    "    B = (N/t)*I*mu*mu_0\n",
    "    return B"
   ]
  },
  {
   "cell_type": "code",
   "execution_count": 52,
   "id": "46789f5a-8b11-40eb-80a2-dd4d6ebaf9da",
   "metadata": {},
   "outputs": [
    {
     "data": {
      "text/plain": [
       "array([0.07223104, 0.07223827, 0.07224551, 0.07225274, 0.07225997,\n",
       "       0.07226721, 0.07227444, 0.07228168, 0.07228891, 0.07229615,\n",
       "       0.07230338, 0.07231062, 0.07231785, 0.07232508, 0.07233232,\n",
       "       0.07233955, 0.07234679, 0.07235402, 0.07236126, 0.07236849,\n",
       "       0.07237573, 0.07238296, 0.07239019, 0.07239743, 0.07240466,\n",
       "       0.0724119 , 0.07241913, 0.07242637, 0.0724336 , 0.07244083,\n",
       "       0.07244807, 0.0724553 , 0.07246254, 0.07246977, 0.07247701,\n",
       "       0.07248424, 0.07249148, 0.07249871, 0.07250594, 0.07251318,\n",
       "       0.07252041, 0.07252765, 0.07253488, 0.07254212, 0.07254935,\n",
       "       0.07255659, 0.07256382, 0.07257105, 0.07257829, 0.07258552,\n",
       "       0.07259276, 0.07259999, 0.07260723, 0.07261446, 0.0726217 ,\n",
       "       0.07262893, 0.07263616, 0.0726434 , 0.07265063, 0.07265787,\n",
       "       0.0726651 , 0.07267234, 0.07267957, 0.0726868 , 0.07269404,\n",
       "       0.07270127, 0.07270851, 0.07271574, 0.07272298, 0.07273021,\n",
       "       0.07273745, 0.07274468, 0.07275191, 0.07275915, 0.07276638,\n",
       "       0.07277362, 0.07278085, 0.07278809, 0.07279532, 0.07280256,\n",
       "       0.07280979, 0.07281702, 0.07282426, 0.07283149, 0.07283873,\n",
       "       0.07284596, 0.0728532 , 0.07286043, 0.07286767, 0.0728749 ,\n",
       "       0.07288213, 0.07288937, 0.0728966 , 0.07290384, 0.07291107,\n",
       "       0.07291831, 0.07292554, 0.07293277, 0.07294001, 0.07294724])"
      ]
     },
     "execution_count": 52,
     "metadata": {},
     "output_type": "execute_result"
    }
   ],
   "source": [
    "B()"
   ]
  },
  {
   "cell_type": "code",
   "execution_count": 53,
   "id": "6242d2de-01f4-4163-aebf-038de31cbb0d",
   "metadata": {},
   "outputs": [
    {
     "data": {
      "text/plain": [
       "0.0728"
      ]
     },
     "execution_count": 53,
     "metadata": {},
     "output_type": "execute_result"
    }
   ],
   "source": [
    "mT_to_T(72.8)\n"
   ]
  },
  {
   "cell_type": "code",
   "execution_count": 54,
   "id": "c0b3874e-c58d-4e50-9271-f84955d61e5c",
   "metadata": {},
   "outputs": [],
   "source": [
    "mydataset = {\n",
    "    'Magnetic': B()\n",
    "}\n",
    "df = pd.DataFrame(mydataset)"
   ]
  },
  {
   "cell_type": "code",
   "execution_count": 55,
   "id": "1b36c15d-66be-449f-a5bd-1dea4c620d95",
   "metadata": {},
   "outputs": [
    {
     "data": {
      "text/html": [
       "<div>\n",
       "<style scoped>\n",
       "    .dataframe tbody tr th:only-of-type {\n",
       "        vertical-align: middle;\n",
       "    }\n",
       "\n",
       "    .dataframe tbody tr th {\n",
       "        vertical-align: top;\n",
       "    }\n",
       "\n",
       "    .dataframe thead th {\n",
       "        text-align: right;\n",
       "    }\n",
       "</style>\n",
       "<table border=\"1\" class=\"dataframe\">\n",
       "  <thead>\n",
       "    <tr style=\"text-align: right;\">\n",
       "      <th></th>\n",
       "      <th>Magnetic</th>\n",
       "    </tr>\n",
       "  </thead>\n",
       "  <tbody>\n",
       "    <tr>\n",
       "      <th>0</th>\n",
       "      <td>0.072231</td>\n",
       "    </tr>\n",
       "    <tr>\n",
       "      <th>1</th>\n",
       "      <td>0.072238</td>\n",
       "    </tr>\n",
       "    <tr>\n",
       "      <th>2</th>\n",
       "      <td>0.072246</td>\n",
       "    </tr>\n",
       "    <tr>\n",
       "      <th>3</th>\n",
       "      <td>0.072253</td>\n",
       "    </tr>\n",
       "    <tr>\n",
       "      <th>4</th>\n",
       "      <td>0.072260</td>\n",
       "    </tr>\n",
       "    <tr>\n",
       "      <th>...</th>\n",
       "      <td>...</td>\n",
       "    </tr>\n",
       "    <tr>\n",
       "      <th>95</th>\n",
       "      <td>0.072918</td>\n",
       "    </tr>\n",
       "    <tr>\n",
       "      <th>96</th>\n",
       "      <td>0.072926</td>\n",
       "    </tr>\n",
       "    <tr>\n",
       "      <th>97</th>\n",
       "      <td>0.072933</td>\n",
       "    </tr>\n",
       "    <tr>\n",
       "      <th>98</th>\n",
       "      <td>0.072940</td>\n",
       "    </tr>\n",
       "    <tr>\n",
       "      <th>99</th>\n",
       "      <td>0.072947</td>\n",
       "    </tr>\n",
       "  </tbody>\n",
       "</table>\n",
       "<p>100 rows × 1 columns</p>\n",
       "</div>"
      ],
      "text/plain": [
       "    Magnetic\n",
       "0   0.072231\n",
       "1   0.072238\n",
       "2   0.072246\n",
       "3   0.072253\n",
       "4   0.072260\n",
       "..       ...\n",
       "95  0.072918\n",
       "96  0.072926\n",
       "97  0.072933\n",
       "98  0.072940\n",
       "99  0.072947\n",
       "\n",
       "[100 rows x 1 columns]"
      ]
     },
     "execution_count": 55,
     "metadata": {},
     "output_type": "execute_result"
    }
   ],
   "source": [
    "df"
   ]
  },
  {
   "cell_type": "code",
   "execution_count": 58,
   "id": "7d937dd4-2f97-4af3-a893-b4bf81742b3a",
   "metadata": {},
   "outputs": [],
   "source": [
    "df1 = df[df[\"Magnetic\"] >= mT_to_T(72.8)]"
   ]
  },
  {
   "cell_type": "code",
   "execution_count": 59,
   "id": "6c074f6c-27da-4c2b-9d86-e242193351db",
   "metadata": {},
   "outputs": [
    {
     "data": {
      "text/html": [
       "<div>\n",
       "<style scoped>\n",
       "    .dataframe tbody tr th:only-of-type {\n",
       "        vertical-align: middle;\n",
       "    }\n",
       "\n",
       "    .dataframe tbody tr th {\n",
       "        vertical-align: top;\n",
       "    }\n",
       "\n",
       "    .dataframe thead th {\n",
       "        text-align: right;\n",
       "    }\n",
       "</style>\n",
       "<table border=\"1\" class=\"dataframe\">\n",
       "  <thead>\n",
       "    <tr style=\"text-align: right;\">\n",
       "      <th></th>\n",
       "      <th>Magnetic</th>\n",
       "    </tr>\n",
       "  </thead>\n",
       "  <tbody>\n",
       "    <tr>\n",
       "      <th>79</th>\n",
       "      <td>0.072803</td>\n",
       "    </tr>\n",
       "    <tr>\n",
       "      <th>80</th>\n",
       "      <td>0.072810</td>\n",
       "    </tr>\n",
       "    <tr>\n",
       "      <th>81</th>\n",
       "      <td>0.072817</td>\n",
       "    </tr>\n",
       "    <tr>\n",
       "      <th>82</th>\n",
       "      <td>0.072824</td>\n",
       "    </tr>\n",
       "    <tr>\n",
       "      <th>83</th>\n",
       "      <td>0.072831</td>\n",
       "    </tr>\n",
       "    <tr>\n",
       "      <th>84</th>\n",
       "      <td>0.072839</td>\n",
       "    </tr>\n",
       "    <tr>\n",
       "      <th>85</th>\n",
       "      <td>0.072846</td>\n",
       "    </tr>\n",
       "    <tr>\n",
       "      <th>86</th>\n",
       "      <td>0.072853</td>\n",
       "    </tr>\n",
       "    <tr>\n",
       "      <th>87</th>\n",
       "      <td>0.072860</td>\n",
       "    </tr>\n",
       "    <tr>\n",
       "      <th>88</th>\n",
       "      <td>0.072868</td>\n",
       "    </tr>\n",
       "    <tr>\n",
       "      <th>89</th>\n",
       "      <td>0.072875</td>\n",
       "    </tr>\n",
       "    <tr>\n",
       "      <th>90</th>\n",
       "      <td>0.072882</td>\n",
       "    </tr>\n",
       "    <tr>\n",
       "      <th>91</th>\n",
       "      <td>0.072889</td>\n",
       "    </tr>\n",
       "    <tr>\n",
       "      <th>92</th>\n",
       "      <td>0.072897</td>\n",
       "    </tr>\n",
       "    <tr>\n",
       "      <th>93</th>\n",
       "      <td>0.072904</td>\n",
       "    </tr>\n",
       "    <tr>\n",
       "      <th>94</th>\n",
       "      <td>0.072911</td>\n",
       "    </tr>\n",
       "    <tr>\n",
       "      <th>95</th>\n",
       "      <td>0.072918</td>\n",
       "    </tr>\n",
       "    <tr>\n",
       "      <th>96</th>\n",
       "      <td>0.072926</td>\n",
       "    </tr>\n",
       "    <tr>\n",
       "      <th>97</th>\n",
       "      <td>0.072933</td>\n",
       "    </tr>\n",
       "    <tr>\n",
       "      <th>98</th>\n",
       "      <td>0.072940</td>\n",
       "    </tr>\n",
       "    <tr>\n",
       "      <th>99</th>\n",
       "      <td>0.072947</td>\n",
       "    </tr>\n",
       "  </tbody>\n",
       "</table>\n",
       "</div>"
      ],
      "text/plain": [
       "    Magnetic\n",
       "79  0.072803\n",
       "80  0.072810\n",
       "81  0.072817\n",
       "82  0.072824\n",
       "83  0.072831\n",
       "84  0.072839\n",
       "85  0.072846\n",
       "86  0.072853\n",
       "87  0.072860\n",
       "88  0.072868\n",
       "89  0.072875\n",
       "90  0.072882\n",
       "91  0.072889\n",
       "92  0.072897\n",
       "93  0.072904\n",
       "94  0.072911\n",
       "95  0.072918\n",
       "96  0.072926\n",
       "97  0.072933\n",
       "98  0.072940\n",
       "99  0.072947"
      ]
     },
     "execution_count": 59,
     "metadata": {},
     "output_type": "execute_result"
    }
   ],
   "source": [
    "df1"
   ]
  },
  {
   "cell_type": "code",
   "execution_count": null,
   "id": "79d0bc7d-63f8-4d1b-a0de-5ccf1fc23084",
   "metadata": {},
   "outputs": [],
   "source": []
  }
 ],
 "metadata": {
  "kernelspec": {
   "display_name": "Python 3",
   "language": "python",
   "name": "python3"
  },
  "language_info": {
   "codemirror_mode": {
    "name": "ipython",
    "version": 3
   },
   "file_extension": ".py",
   "mimetype": "text/x-python",
   "name": "python",
   "nbconvert_exporter": "python",
   "pygments_lexer": "ipython3",
   "version": "3.8.8"
  }
 },
 "nbformat": 4,
 "nbformat_minor": 5
}
