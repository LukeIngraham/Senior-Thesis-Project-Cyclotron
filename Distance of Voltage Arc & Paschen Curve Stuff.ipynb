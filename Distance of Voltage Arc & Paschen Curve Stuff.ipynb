{
 "cells": [
  {
   "cell_type": "code",
   "execution_count": 7,
   "id": "395b0f44",
   "metadata": {},
   "outputs": [],
   "source": [
    "import numpy as np"
   ]
  },
  {
   "cell_type": "code",
   "execution_count": 9,
   "id": "268797c1",
   "metadata": {},
   "outputs": [
    {
     "name": "stdout",
     "output_type": "stream",
     "text": [
      "Minimum distance to spark:  0.16666666666666666 mm\n",
      "Current distance:  1.1 mm\n",
      "The voltage will spark across the gap.\n",
      "3300.0000000000005 V\n"
     ]
    }
   ],
   "source": [
    "def mm_to_cm(unit):\n",
    "    new = unit/10\n",
    "    return new\n",
    "\n",
    "def cm_to_mm(unit):\n",
    "    return unit*10\n",
    "\n",
    "def in_to_m(inch):\n",
    "    unit = inch/39.37\n",
    "    return unit\n",
    "\n",
    "def cm_to_m(unit):\n",
    "    return (unit/100)\n",
    "\n",
    "def m_to_mm(unit):\n",
    "    return unit*1000\n",
    "\n",
    "#The spark gap is responsible for arking at around 30kV/cm \n",
    "#so it takes 30kV per centimeter to spark\n",
    "def spark_gap(V):\n",
    "    volt = 30000 #v/cm\n",
    "    return V/volt\n",
    "\n",
    "def spark_volt(l):\n",
    "    volt = 30000 #v/cm\n",
    "    return volt*l\n",
    "\n",
    "def check_spark(d_current, d_min):\n",
    "    if d_min < d_current:\n",
    "        print(\"The voltage will spark across the gap.\")\n",
    "    else:\n",
    "        print(\"The voltage will NOT spark across the gap.\")\n",
    "\n",
    "print(\"Minimum distance to spark: \", cm_to_mm(spark_gap(500)), \"mm\")\n",
    "print(\"Current distance: \", m_to_mm(0.0011), \"mm\")\n",
    "check_spark(m_to_mm(0.0011), cm_to_mm(spark_gap(500)))\n",
    "print(spark_volt(mm_to_cm(m_to_mm(0.0011))), \"V\")"
   ]
  },
  {
   "cell_type": "code",
   "execution_count": 10,
   "id": "e5fbca2f",
   "metadata": {},
   "outputs": [
    {
     "name": "stdout",
     "output_type": "stream",
     "text": [
      "34093807.06450957 V/kPa•cm\n"
     ]
    }
   ],
   "source": [
    "def e_field(v, d):\n",
    "    return v/d\n",
    "\n",
    "def torr_to_Pa(unit):\n",
    "    return unit*133.322\n",
    "\n",
    "print(e_field(500,mm_to_cm(m_to_mm(0.0011)))/((torr_to_Pa(1e-3))/1000), \"V/kPa•cm\")"
   ]
  },
  {
   "cell_type": "code",
   "execution_count": 3,
   "id": "7ea701b4-d16c-4fa1-a02e-471f9f74e0fb",
   "metadata": {},
   "outputs": [],
   "source": [
    "# Look more into Townsend coeffients\n",
    "# Breakdown voltages\n",
    "# Pachen Curves\n",
    "# Spark Gap"
   ]
  },
  {
   "cell_type": "code",
   "execution_count": null,
   "id": "0782c08a-7b99-46fb-823d-1d1e61cd36b9",
   "metadata": {},
   "outputs": [],
   "source": []
  }
 ],
 "metadata": {
  "kernelspec": {
   "display_name": "Python 3",
   "language": "python",
   "name": "python3"
  },
  "language_info": {
   "codemirror_mode": {
    "name": "ipython",
    "version": 3
   },
   "file_extension": ".py",
   "mimetype": "text/x-python",
   "name": "python",
   "nbconvert_exporter": "python",
   "pygments_lexer": "ipython3",
   "version": "3.8.8"
  }
 },
 "nbformat": 4,
 "nbformat_minor": 5
}
