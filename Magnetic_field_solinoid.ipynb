{
 "cells": [
  {
   "cell_type": "code",
   "execution_count": 1,
   "id": "6412c18d",
   "metadata": {},
   "outputs": [],
   "source": [
    "import numpy as np\n"
   ]
  },
  {
   "cell_type": "code",
   "execution_count": 7,
   "id": "76a54694",
   "metadata": {},
   "outputs": [],
   "source": [
    "\n",
    "def B_field_solenoid(I, N, L):\n",
    "    # Permitivity of free space\n",
    "    MU_0 = 1.25663706e-6 #m kg s-2 A-2 \n",
    "    # [N] = unitless\n",
    "    # [I] = A\n",
    "    # [L] = M\n",
    "    \n",
    "    # [T] = kg⋅s−2⋅A−1\n",
    "    return (N*I*MU)/L\n",
    "\n"
   ]
  },
  {
   "cell_type": "code",
   "execution_count": 9,
   "id": "c41304fd",
   "metadata": {},
   "outputs": [
    {
     "name": "stdout",
     "output_type": "stream",
     "text": [
      "0.015831648 T\n"
     ]
    }
   ],
   "source": [
    "print(B_field_solenoid(20, 8, 0.0127), \"T\")"
   ]
  },
  {
   "cell_type": "code",
   "execution_count": null,
   "id": "48e42d1d",
   "metadata": {},
   "outputs": [],
   "source": []
  }
 ],
 "metadata": {
  "kernelspec": {
   "display_name": "Python 3",
   "language": "python",
   "name": "python3"
  },
  "language_info": {
   "codemirror_mode": {
    "name": "ipython",
    "version": 3
   },
   "file_extension": ".py",
   "mimetype": "text/x-python",
   "name": "python",
   "nbconvert_exporter": "python",
   "pygments_lexer": "ipython3",
   "version": "3.8.8"
  }
 },
 "nbformat": 4,
 "nbformat_minor": 5
}
